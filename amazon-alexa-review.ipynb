{
 "cells": [
  {
   "cell_type": "code",
   "execution_count": 1,
   "id": "db8a0fa9",
   "metadata": {
    "execution": {
     "iopub.execute_input": "2022-06-25T19:36:21.062114Z",
     "iopub.status.busy": "2022-06-25T19:36:21.061429Z",
     "iopub.status.idle": "2022-06-25T19:36:22.843055Z",
     "shell.execute_reply": "2022-06-25T19:36:22.841979Z"
    },
    "papermill": {
     "duration": 1.795472,
     "end_time": "2022-06-25T19:36:22.845868",
     "exception": false,
     "start_time": "2022-06-25T19:36:21.050396",
     "status": "completed"
    },
    "tags": []
   },
   "outputs": [],
   "source": [
    "import pandas as pd\n",
    "import numpy as np\n",
    "import nltk\n",
    "import matplotlib.pyplot as plt\n",
    "import seaborn as sns\n",
    "import warnings\n",
    "warnings.simplefilter('ignore')"
   ]
  },
  {
   "cell_type": "code",
   "execution_count": 2,
   "id": "97ee3978",
   "metadata": {
    "execution": {
     "iopub.execute_input": "2022-06-25T19:36:22.865312Z",
     "iopub.status.busy": "2022-06-25T19:36:22.864244Z",
     "iopub.status.idle": "2022-06-25T19:36:22.923350Z",
     "shell.execute_reply": "2022-06-25T19:36:22.920469Z"
    },
    "papermill": {
     "duration": 0.07133,
     "end_time": "2022-06-25T19:36:22.925676",
     "exception": false,
     "start_time": "2022-06-25T19:36:22.854346",
     "status": "completed"
    },
    "tags": []
   },
   "outputs": [
    {
     "data": {
      "text/html": [
       "<div>\n",
       "<style scoped>\n",
       "    .dataframe tbody tr th:only-of-type {\n",
       "        vertical-align: middle;\n",
       "    }\n",
       "\n",
       "    .dataframe tbody tr th {\n",
       "        vertical-align: top;\n",
       "    }\n",
       "\n",
       "    .dataframe thead th {\n",
       "        text-align: right;\n",
       "    }\n",
       "</style>\n",
       "<table border=\"1\" class=\"dataframe\">\n",
       "  <thead>\n",
       "    <tr style=\"text-align: right;\">\n",
       "      <th></th>\n",
       "      <th>rating</th>\n",
       "      <th>date</th>\n",
       "      <th>variation</th>\n",
       "      <th>verified_reviews</th>\n",
       "      <th>feedback</th>\n",
       "    </tr>\n",
       "  </thead>\n",
       "  <tbody>\n",
       "    <tr>\n",
       "      <th>0</th>\n",
       "      <td>5</td>\n",
       "      <td>31-Jul-18</td>\n",
       "      <td>Charcoal Fabric</td>\n",
       "      <td>Love my Echo!</td>\n",
       "      <td>1</td>\n",
       "    </tr>\n",
       "    <tr>\n",
       "      <th>1</th>\n",
       "      <td>5</td>\n",
       "      <td>31-Jul-18</td>\n",
       "      <td>Charcoal Fabric</td>\n",
       "      <td>Loved it!</td>\n",
       "      <td>1</td>\n",
       "    </tr>\n",
       "    <tr>\n",
       "      <th>2</th>\n",
       "      <td>4</td>\n",
       "      <td>31-Jul-18</td>\n",
       "      <td>Walnut Finish</td>\n",
       "      <td>Sometimes while playing a game, you can answer...</td>\n",
       "      <td>1</td>\n",
       "    </tr>\n",
       "    <tr>\n",
       "      <th>3</th>\n",
       "      <td>5</td>\n",
       "      <td>31-Jul-18</td>\n",
       "      <td>Charcoal Fabric</td>\n",
       "      <td>I have had a lot of fun with this thing. My 4 ...</td>\n",
       "      <td>1</td>\n",
       "    </tr>\n",
       "    <tr>\n",
       "      <th>4</th>\n",
       "      <td>5</td>\n",
       "      <td>31-Jul-18</td>\n",
       "      <td>Charcoal Fabric</td>\n",
       "      <td>Music</td>\n",
       "      <td>1</td>\n",
       "    </tr>\n",
       "  </tbody>\n",
       "</table>\n",
       "</div>"
      ],
      "text/plain": [
       "   rating       date         variation  \\\n",
       "0       5  31-Jul-18  Charcoal Fabric    \n",
       "1       5  31-Jul-18  Charcoal Fabric    \n",
       "2       4  31-Jul-18    Walnut Finish    \n",
       "3       5  31-Jul-18  Charcoal Fabric    \n",
       "4       5  31-Jul-18  Charcoal Fabric    \n",
       "\n",
       "                                    verified_reviews  feedback  \n",
       "0                                      Love my Echo!         1  \n",
       "1                                          Loved it!         1  \n",
       "2  Sometimes while playing a game, you can answer...         1  \n",
       "3  I have had a lot of fun with this thing. My 4 ...         1  \n",
       "4                                              Music         1  "
      ]
     },
     "execution_count": 2,
     "metadata": {},
     "output_type": "execute_result"
    }
   ],
   "source": [
    "data = pd.read_csv('../input/dataset/Amazon alexa review - code/dataset/amazon_alexa.tsv',sep ='\\t')\n",
    "data.head()"
   ]
  },
  {
   "cell_type": "code",
   "execution_count": 3,
   "id": "4a89058f",
   "metadata": {
    "execution": {
     "iopub.execute_input": "2022-06-25T19:36:22.945123Z",
     "iopub.status.busy": "2022-06-25T19:36:22.944704Z",
     "iopub.status.idle": "2022-06-25T19:36:22.968495Z",
     "shell.execute_reply": "2022-06-25T19:36:22.967593Z"
    },
    "papermill": {
     "duration": 0.036446,
     "end_time": "2022-06-25T19:36:22.971055",
     "exception": false,
     "start_time": "2022-06-25T19:36:22.934609",
     "status": "completed"
    },
    "tags": []
   },
   "outputs": [],
   "source": [
    "data['date'] = pd.to_datetime(data['date'])\n",
    "data = data.set_index('date')"
   ]
  },
  {
   "cell_type": "code",
   "execution_count": 4,
   "id": "34f80c3b",
   "metadata": {
    "execution": {
     "iopub.execute_input": "2022-06-25T19:36:22.989945Z",
     "iopub.status.busy": "2022-06-25T19:36:22.989548Z",
     "iopub.status.idle": "2022-06-25T19:36:23.000569Z",
     "shell.execute_reply": "2022-06-25T19:36:22.999840Z"
    },
    "papermill": {
     "duration": 0.022685,
     "end_time": "2022-06-25T19:36:23.002481",
     "exception": false,
     "start_time": "2022-06-25T19:36:22.979796",
     "status": "completed"
    },
    "tags": []
   },
   "outputs": [
    {
     "data": {
      "text/html": [
       "<div>\n",
       "<style scoped>\n",
       "    .dataframe tbody tr th:only-of-type {\n",
       "        vertical-align: middle;\n",
       "    }\n",
       "\n",
       "    .dataframe tbody tr th {\n",
       "        vertical-align: top;\n",
       "    }\n",
       "\n",
       "    .dataframe thead th {\n",
       "        text-align: right;\n",
       "    }\n",
       "</style>\n",
       "<table border=\"1\" class=\"dataframe\">\n",
       "  <thead>\n",
       "    <tr style=\"text-align: right;\">\n",
       "      <th></th>\n",
       "      <th>rating</th>\n",
       "      <th>variation</th>\n",
       "      <th>verified_reviews</th>\n",
       "      <th>feedback</th>\n",
       "    </tr>\n",
       "    <tr>\n",
       "      <th>date</th>\n",
       "      <th></th>\n",
       "      <th></th>\n",
       "      <th></th>\n",
       "      <th></th>\n",
       "    </tr>\n",
       "  </thead>\n",
       "  <tbody>\n",
       "    <tr>\n",
       "      <th>2018-07-31</th>\n",
       "      <td>5</td>\n",
       "      <td>Charcoal Fabric</td>\n",
       "      <td>Love my Echo!</td>\n",
       "      <td>1</td>\n",
       "    </tr>\n",
       "    <tr>\n",
       "      <th>2018-07-31</th>\n",
       "      <td>5</td>\n",
       "      <td>Charcoal Fabric</td>\n",
       "      <td>Loved it!</td>\n",
       "      <td>1</td>\n",
       "    </tr>\n",
       "    <tr>\n",
       "      <th>2018-07-31</th>\n",
       "      <td>4</td>\n",
       "      <td>Walnut Finish</td>\n",
       "      <td>Sometimes while playing a game, you can answer...</td>\n",
       "      <td>1</td>\n",
       "    </tr>\n",
       "    <tr>\n",
       "      <th>2018-07-31</th>\n",
       "      <td>5</td>\n",
       "      <td>Charcoal Fabric</td>\n",
       "      <td>I have had a lot of fun with this thing. My 4 ...</td>\n",
       "      <td>1</td>\n",
       "    </tr>\n",
       "    <tr>\n",
       "      <th>2018-07-31</th>\n",
       "      <td>5</td>\n",
       "      <td>Charcoal Fabric</td>\n",
       "      <td>Music</td>\n",
       "      <td>1</td>\n",
       "    </tr>\n",
       "  </tbody>\n",
       "</table>\n",
       "</div>"
      ],
      "text/plain": [
       "            rating         variation  \\\n",
       "date                                   \n",
       "2018-07-31       5  Charcoal Fabric    \n",
       "2018-07-31       5  Charcoal Fabric    \n",
       "2018-07-31       4    Walnut Finish    \n",
       "2018-07-31       5  Charcoal Fabric    \n",
       "2018-07-31       5  Charcoal Fabric    \n",
       "\n",
       "                                             verified_reviews  feedback  \n",
       "date                                                                     \n",
       "2018-07-31                                      Love my Echo!         1  \n",
       "2018-07-31                                          Loved it!         1  \n",
       "2018-07-31  Sometimes while playing a game, you can answer...         1  \n",
       "2018-07-31  I have had a lot of fun with this thing. My 4 ...         1  \n",
       "2018-07-31                                              Music         1  "
      ]
     },
     "execution_count": 4,
     "metadata": {},
     "output_type": "execute_result"
    }
   ],
   "source": [
    "data.head()"
   ]
  },
  {
   "cell_type": "code",
   "execution_count": 5,
   "id": "e5203c6b",
   "metadata": {
    "execution": {
     "iopub.execute_input": "2022-06-25T19:36:23.022160Z",
     "iopub.status.busy": "2022-06-25T19:36:23.021450Z",
     "iopub.status.idle": "2022-06-25T19:36:23.030237Z",
     "shell.execute_reply": "2022-06-25T19:36:23.029485Z"
    },
    "papermill": {
     "duration": 0.020912,
     "end_time": "2022-06-25T19:36:23.032124",
     "exception": false,
     "start_time": "2022-06-25T19:36:23.011212",
     "status": "completed"
    },
    "tags": []
   },
   "outputs": [
    {
     "data": {
      "text/plain": [
       "rating              0\n",
       "variation           0\n",
       "verified_reviews    0\n",
       "feedback            0\n",
       "dtype: int64"
      ]
     },
     "execution_count": 5,
     "metadata": {},
     "output_type": "execute_result"
    }
   ],
   "source": [
    "data.isnull().sum()"
   ]
  },
  {
   "cell_type": "code",
   "execution_count": 6,
   "id": "4fafc0d1",
   "metadata": {
    "execution": {
     "iopub.execute_input": "2022-06-25T19:36:23.051690Z",
     "iopub.status.busy": "2022-06-25T19:36:23.051026Z",
     "iopub.status.idle": "2022-06-25T19:36:23.069668Z",
     "shell.execute_reply": "2022-06-25T19:36:23.067782Z"
    },
    "papermill": {
     "duration": 0.031823,
     "end_time": "2022-06-25T19:36:23.072640",
     "exception": false,
     "start_time": "2022-06-25T19:36:23.040817",
     "status": "completed"
    },
    "tags": []
   },
   "outputs": [
    {
     "name": "stdout",
     "output_type": "stream",
     "text": [
      "<class 'pandas.core.frame.DataFrame'>\n",
      "DatetimeIndex: 3150 entries, 2018-07-31 to 2018-07-29\n",
      "Data columns (total 4 columns):\n",
      " #   Column            Non-Null Count  Dtype \n",
      "---  ------            --------------  ----- \n",
      " 0   rating            3150 non-null   int64 \n",
      " 1   variation         3150 non-null   object\n",
      " 2   verified_reviews  3150 non-null   object\n",
      " 3   feedback          3150 non-null   int64 \n",
      "dtypes: int64(2), object(2)\n",
      "memory usage: 123.0+ KB\n"
     ]
    }
   ],
   "source": [
    "data.info()"
   ]
  },
  {
   "cell_type": "code",
   "execution_count": 7,
   "id": "3f22c06b",
   "metadata": {
    "execution": {
     "iopub.execute_input": "2022-06-25T19:36:23.092934Z",
     "iopub.status.busy": "2022-06-25T19:36:23.091734Z",
     "iopub.status.idle": "2022-06-25T19:36:23.100555Z",
     "shell.execute_reply": "2022-06-25T19:36:23.099726Z"
    },
    "papermill": {
     "duration": 0.020886,
     "end_time": "2022-06-25T19:36:23.102539",
     "exception": false,
     "start_time": "2022-06-25T19:36:23.081653",
     "status": "completed"
    },
    "tags": []
   },
   "outputs": [
    {
     "data": {
      "text/plain": [
       "Black  Dot                      516\n",
       "Charcoal Fabric                 430\n",
       "Configuration: Fire TV Stick    350\n",
       "Black  Plus                     270\n",
       "Black  Show                     265\n",
       "Black                           261\n",
       "Black  Spot                     241\n",
       "White  Dot                      184\n",
       "Heather Gray Fabric             157\n",
       "White  Spot                     109\n",
       "White                            91\n",
       "Sandstone Fabric                 90\n",
       "White  Show                      85\n",
       "White  Plus                      78\n",
       "Oak Finish                       14\n",
       "Walnut Finish                     9\n",
       "Name: variation, dtype: int64"
      ]
     },
     "execution_count": 7,
     "metadata": {},
     "output_type": "execute_result"
    }
   ],
   "source": [
    "data['variation'].value_counts()"
   ]
  },
  {
   "cell_type": "code",
   "execution_count": 8,
   "id": "eeb3483c",
   "metadata": {
    "execution": {
     "iopub.execute_input": "2022-06-25T19:36:23.122629Z",
     "iopub.status.busy": "2022-06-25T19:36:23.122003Z",
     "iopub.status.idle": "2022-06-25T19:36:23.371595Z",
     "shell.execute_reply": "2022-06-25T19:36:23.369670Z"
    },
    "papermill": {
     "duration": 0.262582,
     "end_time": "2022-06-25T19:36:23.374145",
     "exception": false,
     "start_time": "2022-06-25T19:36:23.111563",
     "status": "completed"
    },
    "tags": []
   },
   "outputs": [
    {
     "data": {
      "text/plain": [
       "<AxesSubplot:xlabel='variation', ylabel='count'>"
      ]
     },
     "execution_count": 8,
     "metadata": {},
     "output_type": "execute_result"
    },
    {
     "data": {
      "image/png": "[encoded data removed]",
      "text/plain": [
       "<Figure size 432x288 with 1 Axes>"
      ]
     },
     "metadata": {
      "needs_background": "light"
     },
     "output_type": "display_data"
    }
   ],
   "source": [
    "sns.countplot(data['variation'])"
   ]
  },
  {
   "cell_type": "code",
   "execution_count": 9,
   "id": "4bb5cc8e",
   "metadata": {
    "execution": {
     "iopub.execute_input": "2022-06-25T19:36:23.395403Z",
     "iopub.status.busy": "2022-06-25T19:36:23.394467Z",
     "iopub.status.idle": "2022-06-25T19:36:23.401662Z",
     "shell.execute_reply": "2022-06-25T19:36:23.400983Z"
    },
    "papermill": {
     "duration": 0.019889,
     "end_time": "2022-06-25T19:36:23.403613",
     "exception": false,
     "start_time": "2022-06-25T19:36:23.383724",
     "status": "completed"
    },
    "tags": []
   },
   "outputs": [
    {
     "data": {
      "text/plain": [
       "1    2893\n",
       "0     257\n",
       "Name: feedback, dtype: int64"
      ]
     },
     "execution_count": 9,
     "metadata": {},
     "output_type": "execute_result"
    }
   ],
   "source": [
    "data['feedback'].value_counts()"
   ]
  },
  {
   "cell_type": "code",
   "execution_count": 10,
   "id": "8c150b5f",
   "metadata": {
    "execution": {
     "iopub.execute_input": "2022-06-25T19:36:23.425097Z",
     "iopub.status.busy": "2022-06-25T19:36:23.424670Z",
     "iopub.status.idle": "2022-06-25T19:36:23.630714Z",
     "shell.execute_reply": "2022-06-25T19:36:23.629961Z"
    },
    "papermill": {
     "duration": 0.219346,
     "end_time": "2022-06-25T19:36:23.632804",
     "exception": false,
     "start_time": "2022-06-25T19:36:23.413458",
     "status": "completed"
    },
    "tags": []
   },
   "outputs": [
    {
     "data": {
      "text/plain": [
       "<AxesSubplot:xlabel='rating', ylabel='count'>"
      ]
     },
     "execution_count": 10,
     "metadata": {},
     "output_type": "execute_result"
    },
    {
     "data": {
      "image/png": "[encoded data removed]",
      "text/plain": [
       "<Figure size 432x288 with 1 Axes>"
      ]
     },
     "metadata": {
      "needs_background": "light"
     },
     "output_type": "display_data"
    }
   ],
   "source": [
    "sns.countplot(data['rating'],hue = data['feedback'])"
   ]
  },
  {
   "cell_type": "code",
   "execution_count": 11,
   "id": "6eb1c67c",
   "metadata": {
    "execution": {
     "iopub.execute_input": "2022-06-25T19:36:23.655466Z",
     "iopub.status.busy": "2022-06-25T19:36:23.654904Z",
     "iopub.status.idle": "2022-06-25T19:36:23.664605Z",
     "shell.execute_reply": "2022-06-25T19:36:23.663436Z"
    },
    "papermill": {
     "duration": 0.024153,
     "end_time": "2022-06-25T19:36:23.666957",
     "exception": false,
     "start_time": "2022-06-25T19:36:23.642804",
     "status": "completed"
    },
    "tags": []
   },
   "outputs": [
    {
     "data": {
      "text/plain": [
       "rating  feedback\n",
       "1       0            161\n",
       "2       0             96\n",
       "3       1            152\n",
       "4       1            455\n",
       "5       1           2286\n",
       "Name: feedback, dtype: int64"
      ]
     },
     "execution_count": 11,
     "metadata": {},
     "output_type": "execute_result"
    }
   ],
   "source": [
    "data.groupby(['rating'])['feedback'].value_counts()\n",
    "\n",
    "# it was obvious to have positive feedback for ratings more than 3 "
   ]
  },
  {
   "cell_type": "code",
   "execution_count": 12,
   "id": "ed4983fb",
   "metadata": {
    "execution": {
     "iopub.execute_input": "2022-06-25T19:36:23.689366Z",
     "iopub.status.busy": "2022-06-25T19:36:23.688679Z",
     "iopub.status.idle": "2022-06-25T19:36:23.694507Z",
     "shell.execute_reply": "2022-06-25T19:36:23.693789Z"
    },
    "papermill": {
     "duration": 0.019218,
     "end_time": "2022-06-25T19:36:23.696423",
     "exception": false,
     "start_time": "2022-06-25T19:36:23.677205",
     "status": "completed"
    },
    "tags": []
   },
   "outputs": [
    {
     "data": {
      "text/plain": [
       "3150"
      ]
     },
     "execution_count": 12,
     "metadata": {},
     "output_type": "execute_result"
    }
   ],
   "source": [
    "len(data)"
   ]
  },
  {
   "cell_type": "code",
   "execution_count": 13,
   "id": "8e814846",
   "metadata": {
    "execution": {
     "iopub.execute_input": "2022-06-25T19:36:23.719461Z",
     "iopub.status.busy": "2022-06-25T19:36:23.718421Z",
     "iopub.status.idle": "2022-06-25T19:36:23.853346Z",
     "shell.execute_reply": "2022-06-25T19:36:23.851964Z"
    },
    "papermill": {
     "duration": 0.148999,
     "end_time": "2022-06-25T19:36:23.855713",
     "exception": false,
     "start_time": "2022-06-25T19:36:23.706714",
     "status": "completed"
    },
    "tags": []
   },
   "outputs": [
    {
     "name": "stdout",
     "output_type": "stream",
     "text": [
      "[nltk_data] Downloading package stopwords to /usr/share/nltk_data...\n",
      "[nltk_data]   Package stopwords is already up-to-date!\n"
     ]
    }
   ],
   "source": [
    "import re\n",
    "nltk.download('stopwords')\n",
    "from nltk.corpus import stopwords\n",
    "from nltk.stem.porter import PorterStemmer\n",
    "ps = PorterStemmer()"
   ]
  },
  {
   "cell_type": "code",
   "execution_count": 14,
   "id": "141ff011",
   "metadata": {
    "execution": {
     "iopub.execute_input": "2022-06-25T19:36:23.878469Z",
     "iopub.status.busy": "2022-06-25T19:36:23.878046Z",
     "iopub.status.idle": "2022-06-25T19:36:35.754257Z",
     "shell.execute_reply": "2022-06-25T19:36:35.753081Z"
    },
    "papermill": {
     "duration": 11.890872,
     "end_time": "2022-06-25T19:36:35.756946",
     "exception": false,
     "start_time": "2022-06-25T19:36:23.866074",
     "status": "completed"
    },
    "tags": []
   },
   "outputs": [],
   "source": [
    "review = []\n",
    "for i in range(0,len(data)):\n",
    "    word = re.sub('[^a-zA-Z]' , ' ' ,data['verified_reviews'][i])\n",
    "    #data['verified_reviews']= data['verified_reviews'][i].lower()\n",
    "    word = word.lower()\n",
    "    word = word.split()\n",
    "    #word = nltk.word_tokenize(word)\n",
    "    word = [ps.stem(x) for x in word if not x in stopwords.words('english') ]\n",
    "    word = ' '.join(word)\n",
    "    review.append(word)\n",
    "    "
   ]
  },
  {
   "cell_type": "code",
   "execution_count": 15,
   "id": "9a41f592",
   "metadata": {
    "execution": {
     "iopub.execute_input": "2022-06-25T19:36:35.780890Z",
     "iopub.status.busy": "2022-06-25T19:36:35.780507Z",
     "iopub.status.idle": "2022-06-25T19:36:35.785957Z",
     "shell.execute_reply": "2022-06-25T19:36:35.785035Z"
    },
    "papermill": {
     "duration": 0.020375,
     "end_time": "2022-06-25T19:36:35.788325",
     "exception": false,
     "start_time": "2022-06-25T19:36:35.767950",
     "status": "completed"
    },
    "tags": []
   },
   "outputs": [],
   "source": [
    "#review"
   ]
  },
  {
   "cell_type": "code",
   "execution_count": 16,
   "id": "72e2c861",
   "metadata": {
    "execution": {
     "iopub.execute_input": "2022-06-25T19:36:35.811281Z",
     "iopub.status.busy": "2022-06-25T19:36:35.810276Z",
     "iopub.status.idle": "2022-06-25T19:36:35.816913Z",
     "shell.execute_reply": "2022-06-25T19:36:35.816131Z"
    },
    "papermill": {
     "duration": 0.020231,
     "end_time": "2022-06-25T19:36:35.818951",
     "exception": false,
     "start_time": "2022-06-25T19:36:35.798720",
     "status": "completed"
    },
    "tags": []
   },
   "outputs": [],
   "source": [
    "from sklearn.preprocessing import LabelEncoder\n",
    "le = LabelEncoder()\n",
    "data['variation'] = le.fit_transform(data['variation'])\n",
    "#data"
   ]
  },
  {
   "cell_type": "code",
   "execution_count": 17,
   "id": "f117158b",
   "metadata": {
    "execution": {
     "iopub.execute_input": "2022-06-25T19:36:35.841436Z",
     "iopub.status.busy": "2022-06-25T19:36:35.840768Z",
     "iopub.status.idle": "2022-06-25T19:36:35.845323Z",
     "shell.execute_reply": "2022-06-25T19:36:35.844609Z"
    },
    "papermill": {
     "duration": 0.017962,
     "end_time": "2022-06-25T19:36:35.847196",
     "exception": false,
     "start_time": "2022-06-25T19:36:35.829234",
     "status": "completed"
    },
    "tags": []
   },
   "outputs": [],
   "source": [
    "data['verified_reviews'] = review"
   ]
  },
  {
   "cell_type": "code",
   "execution_count": null,
   "id": "311b0442",
   "metadata": {
    "papermill": {
     "duration": 0.010136,
     "end_time": "2022-06-25T19:36:35.867442",
     "exception": false,
     "start_time": "2022-06-25T19:36:35.857306",
     "status": "completed"
    },
    "tags": []
   },
   "outputs": [],
   "source": []
  },
  {
   "cell_type": "code",
   "execution_count": 18,
   "id": "d2b9e568",
   "metadata": {
    "execution": {
     "iopub.execute_input": "2022-06-25T19:36:35.890180Z",
     "iopub.status.busy": "2022-06-25T19:36:35.889493Z",
     "iopub.status.idle": "2022-06-25T19:36:44.860193Z",
     "shell.execute_reply": "2022-06-25T19:36:44.859172Z"
    },
    "papermill": {
     "duration": 8.984979,
     "end_time": "2022-06-25T19:36:44.862775",
     "exception": false,
     "start_time": "2022-06-25T19:36:35.877796",
     "status": "completed"
    },
    "tags": []
   },
   "outputs": [],
   "source": [
    "from keras.preprocessing.text import Tokenizer\n"
   ]
  },
  {
   "cell_type": "code",
   "execution_count": 19,
   "id": "0f775372",
   "metadata": {
    "execution": {
     "iopub.execute_input": "2022-06-25T19:36:44.885613Z",
     "iopub.status.busy": "2022-06-25T19:36:44.884705Z",
     "iopub.status.idle": "2022-06-25T19:36:44.890419Z",
     "shell.execute_reply": "2022-06-25T19:36:44.889715Z"
    },
    "papermill": {
     "duration": 0.019178,
     "end_time": "2022-06-25T19:36:44.892293",
     "exception": false,
     "start_time": "2022-06-25T19:36:44.873115",
     "status": "completed"
    },
    "tags": []
   },
   "outputs": [
    {
     "data": {
      "text/plain": [
       "(3150, 4)"
      ]
     },
     "execution_count": 19,
     "metadata": {},
     "output_type": "execute_result"
    }
   ],
   "source": [
    "data.shape"
   ]
  },
  {
   "cell_type": "code",
   "execution_count": 20,
   "id": "6fb59a19",
   "metadata": {
    "execution": {
     "iopub.execute_input": "2022-06-25T19:36:44.915507Z",
     "iopub.status.busy": "2022-06-25T19:36:44.914831Z",
     "iopub.status.idle": "2022-06-25T19:36:45.028731Z",
     "shell.execute_reply": "2022-06-25T19:36:45.027453Z"
    },
    "papermill": {
     "duration": 0.129024,
     "end_time": "2022-06-25T19:36:45.031501",
     "exception": false,
     "start_time": "2022-06-25T19:36:44.902477",
     "status": "completed"
    },
    "tags": []
   },
   "outputs": [],
   "source": [
    "\n",
    "token = Tokenizer(3105,filters='!\"#$%&()*+,-./:;<=>?@[\\\\]^_`{|}~\\t\\n')\n",
    "token.fit_on_texts(data['verified_reviews'])\n",
    "review = token.texts_to_sequences(review)"
   ]
  },
  {
   "cell_type": "code",
   "execution_count": 21,
   "id": "a64922dd",
   "metadata": {
    "execution": {
     "iopub.execute_input": "2022-06-25T19:36:45.054821Z",
     "iopub.status.busy": "2022-06-25T19:36:45.054431Z",
     "iopub.status.idle": "2022-06-25T19:36:45.074749Z",
     "shell.execute_reply": "2022-06-25T19:36:45.073875Z"
    },
    "papermill": {
     "duration": 0.034624,
     "end_time": "2022-06-25T19:36:45.077058",
     "exception": false,
     "start_time": "2022-06-25T19:36:45.042434",
     "status": "completed"
    },
    "tags": []
   },
   "outputs": [],
   "source": [
    "from keras.preprocessing.sequence import pad_sequences\n",
    "review = pad_sequences(review,maxlen =80,padding ='post')"
   ]
  },
  {
   "cell_type": "code",
   "execution_count": 22,
   "id": "fab3972a",
   "metadata": {
    "execution": {
     "iopub.execute_input": "2022-06-25T19:36:45.100053Z",
     "iopub.status.busy": "2022-06-25T19:36:45.099395Z",
     "iopub.status.idle": "2022-06-25T19:36:45.103407Z",
     "shell.execute_reply": "2022-06-25T19:36:45.102733Z"
    },
    "papermill": {
     "duration": 0.017564,
     "end_time": "2022-06-25T19:36:45.105358",
     "exception": false,
     "start_time": "2022-06-25T19:36:45.087794",
     "status": "completed"
    },
    "tags": []
   },
   "outputs": [],
   "source": [
    "x=review\n",
    "y=data.feedback"
   ]
  },
  {
   "cell_type": "code",
   "execution_count": 23,
   "id": "f559fa77",
   "metadata": {
    "execution": {
     "iopub.execute_input": "2022-06-25T19:36:45.127813Z",
     "iopub.status.busy": "2022-06-25T19:36:45.127173Z",
     "iopub.status.idle": "2022-06-25T19:36:45.132963Z",
     "shell.execute_reply": "2022-06-25T19:36:45.131997Z"
    },
    "papermill": {
     "duration": 0.01961,
     "end_time": "2022-06-25T19:36:45.135134",
     "exception": false,
     "start_time": "2022-06-25T19:36:45.115524",
     "status": "completed"
    },
    "tags": []
   },
   "outputs": [
    {
     "data": {
      "text/plain": [
       "(3150, 80)"
      ]
     },
     "execution_count": 23,
     "metadata": {},
     "output_type": "execute_result"
    }
   ],
   "source": [
    "x.shape"
   ]
  },
  {
   "cell_type": "code",
   "execution_count": 24,
   "id": "31a59fbf",
   "metadata": {
    "execution": {
     "iopub.execute_input": "2022-06-25T19:36:45.157554Z",
     "iopub.status.busy": "2022-06-25T19:36:45.157160Z",
     "iopub.status.idle": "2022-06-25T19:36:45.296567Z",
     "shell.execute_reply": "2022-06-25T19:36:45.295455Z"
    },
    "papermill": {
     "duration": 0.153626,
     "end_time": "2022-06-25T19:36:45.299226",
     "exception": false,
     "start_time": "2022-06-25T19:36:45.145600",
     "status": "completed"
    },
    "tags": []
   },
   "outputs": [],
   "source": [
    "from sklearn.model_selection import train_test_split\n",
    "from sklearn.ensemble import RandomForestClassifier\n",
    "x_train,x_test,y_train,y_test = train_test_split(x,y,test_size =0.2,random_state =42)\n"
   ]
  },
  {
   "cell_type": "code",
   "execution_count": 25,
   "id": "01f40eef",
   "metadata": {
    "execution": {
     "iopub.execute_input": "2022-06-25T19:36:45.322749Z",
     "iopub.status.busy": "2022-06-25T19:36:45.321668Z",
     "iopub.status.idle": "2022-06-25T19:36:45.822028Z",
     "shell.execute_reply": "2022-06-25T19:36:45.820911Z"
    },
    "papermill": {
     "duration": 0.51571,
     "end_time": "2022-06-25T19:36:45.825534",
     "exception": false,
     "start_time": "2022-06-25T19:36:45.309824",
     "status": "completed"
    },
    "tags": []
   },
   "outputs": [
    {
     "data": {
      "text/plain": [
       "RandomForestClassifier()"
      ]
     },
     "execution_count": 25,
     "metadata": {},
     "output_type": "execute_result"
    }
   ],
   "source": [
    "randomforest = RandomForestClassifier()\n",
    "randomforest.fit(x_train,y_train)"
   ]
  },
  {
   "cell_type": "code",
   "execution_count": 26,
   "id": "a9bd4eba",
   "metadata": {
    "execution": {
     "iopub.execute_input": "2022-06-25T19:36:45.855612Z",
     "iopub.status.busy": "2022-06-25T19:36:45.855210Z",
     "iopub.status.idle": "2022-06-25T19:36:45.888041Z",
     "shell.execute_reply": "2022-06-25T19:36:45.886923Z"
    },
    "papermill": {
     "duration": 0.048712,
     "end_time": "2022-06-25T19:36:45.890390",
     "exception": false,
     "start_time": "2022-06-25T19:36:45.841678",
     "status": "completed"
    },
    "tags": []
   },
   "outputs": [
    {
     "data": {
      "text/plain": [
       "0.9412698412698413"
      ]
     },
     "execution_count": 26,
     "metadata": {},
     "output_type": "execute_result"
    }
   ],
   "source": [
    "randomforest.score(x_test,y_test)"
   ]
  },
  {
   "cell_type": "code",
   "execution_count": 27,
   "id": "43ff7b18",
   "metadata": {
    "execution": {
     "iopub.execute_input": "2022-06-25T19:36:45.913282Z",
     "iopub.status.busy": "2022-06-25T19:36:45.912857Z",
     "iopub.status.idle": "2022-06-25T19:36:45.943945Z",
     "shell.execute_reply": "2022-06-25T19:36:45.943022Z"
    },
    "papermill": {
     "duration": 0.045498,
     "end_time": "2022-06-25T19:36:45.946394",
     "exception": false,
     "start_time": "2022-06-25T19:36:45.900896",
     "status": "completed"
    },
    "tags": []
   },
   "outputs": [],
   "source": [
    "predict=randomforest.predict(x_test)"
   ]
  },
  {
   "cell_type": "code",
   "execution_count": 28,
   "id": "063be7bd",
   "metadata": {
    "execution": {
     "iopub.execute_input": "2022-06-25T19:36:45.970791Z",
     "iopub.status.busy": "2022-06-25T19:36:45.970088Z",
     "iopub.status.idle": "2022-06-25T19:36:45.978506Z",
     "shell.execute_reply": "2022-06-25T19:36:45.977535Z"
    },
    "papermill": {
     "duration": 0.023332,
     "end_time": "2022-06-25T19:36:45.980576",
     "exception": false,
     "start_time": "2022-06-25T19:36:45.957244",
     "status": "completed"
    },
    "tags": []
   },
   "outputs": [],
   "source": [
    "def final_result(input):\n",
    "    review = []\n",
    "    for i in range(0,1):\n",
    "        word = re.sub('[^a-zA-Z]' , ' ' ,input)\n",
    "        word = word.lower()\n",
    "        word = word.split()\n",
    "    \n",
    "        word = [ps.stem(x) for x in word if not x in stopwords.words('english') ]\n",
    "        word = ' '.join(word)\n",
    "        review.append(word)\n",
    "        \n",
    "    token = Tokenizer(len(input),filters='!\"#$%&()*+,-./:;<=>?@[\\\\]^_`{|}~\\t\\n')\n",
    "    token.fit_on_texts(review)\n",
    "    review = token.texts_to_sequences(review)\n",
    "    \n",
    "    review = pad_sequences(review,maxlen =80,padding ='post')\n",
    "    \n",
    "    predict=randomforest.predict(review)\n",
    "    \n",
    "    if predict.all() ==1:\n",
    "        print('feedback is positive')\n",
    "    else:\n",
    "        print('feedback is negative')\n",
    "        "
   ]
  },
  {
   "cell_type": "code",
   "execution_count": 29,
   "id": "546350a9",
   "metadata": {
    "execution": {
     "iopub.execute_input": "2022-06-25T19:36:46.004554Z",
     "iopub.status.busy": "2022-06-25T19:36:46.003643Z",
     "iopub.status.idle": "2022-06-25T19:36:46.007644Z",
     "shell.execute_reply": "2022-06-25T19:36:46.006898Z"
    },
    "papermill": {
     "duration": 0.018407,
     "end_time": "2022-06-25T19:36:46.009597",
     "exception": false,
     "start_time": "2022-06-25T19:36:45.991190",
     "status": "completed"
    },
    "tags": []
   },
   "outputs": [],
   "source": [
    "\n",
    "#final_result(str(input(\"enter feedback : \")))"
   ]
  }
 ],
 "metadata": {
  "kernelspec": {
   "display_name": "Python 3",
   "language": "python",
   "name": "python3"
  },
  "language_info": {
   "codemirror_mode": {
    "name": "ipython",
    "version": 3
   },
   "file_extension": ".py",
   "mimetype": "text/x-python",
   "name": "python",
   "nbconvert_exporter": "python",
   "pygments_lexer": "ipython3",
   "version": "3.7.12"
  },
  "papermill": {
   "default_parameters": {},
   "duration": 37.566384,
   "end_time": "2022-06-25T19:36:49.089957",
   "environment_variables": {},
   "exception": null,
   "input_path": "__notebook__.ipynb",
   "output_path": "__notebook__.ipynb",
   "parameters": {},
   "start_time": "2022-06-25T19:36:11.523573",
   "version": "2.3.4"
  }
 },
 "nbformat": 4,
 "nbformat_minor": 5
}
